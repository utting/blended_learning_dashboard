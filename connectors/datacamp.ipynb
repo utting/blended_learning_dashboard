{
 "cells": [
  {
   "cell_type": "code",
   "execution_count": 1,
   "metadata": {
    "collapsed": false
   },
   "outputs": [],
   "source": [
    "from selenium import webdriver\n",
    "from selenium.webdriver.common.keys import Keys"
   ]
  },
  {
   "cell_type": "code",
   "execution_count": 2,
   "metadata": {
    "collapsed": false
   },
   "outputs": [],
   "source": [
    "chrome_options = webdriver.chrome.options.Options()  \n",
    "#chrome_options.add_argument(\"--headless\")  \n",
    "chrome_options.add_argument(\"--window-size=1400,1000\")\n",
    "driver = webdriver.Chrome(options=chrome_options)"
   ]
  },
  {
   "cell_type": "markdown",
   "metadata": {},
   "source": [
    "# Get Progress from DataCamp.com."
   ]
  },
  {
   "cell_type": "code",
   "execution_count": 3,
   "metadata": {
    "collapsed": true
   },
   "outputs": [],
   "source": [
    "driver.get(\"http://www.datacamp.com/users/sign_in\")"
   ]
  },
  {
   "cell_type": "code",
   "execution_count": 4,
   "metadata": {
    "collapsed": false
   },
   "outputs": [],
   "source": [
    "assert \"DataCamp\" in driver.title"
   ]
  },
  {
   "cell_type": "code",
   "execution_count": 51,
   "metadata": {
    "collapsed": false
   },
   "outputs": [],
   "source": [
    "# NOTE: only need this if you start from main page: www.datacamp.com\n",
    "# <a class=\"header__nav-link js-modal-open\" data-url=\"/sign_in_or_up_modal?sign_in=true\" href=\"/users/sign_in\">Sign in</a>\n",
    "# browser.find_element_by_xpath(\"//*[@id=\"logged-out-header\"]/div/div[1]/div[2]/ul[2]/li[1]/a\")\n",
    "# browser.find_element_by_class_name(\"header__nav-link js-modal-open\")\n",
    "#sign_in = driver.find_element_by_link_text(\"Sign in\")\n",
    "#sign_in.click()"
   ]
  },
  {
   "cell_type": "code",
   "execution_count": 5,
   "metadata": {
    "collapsed": true
   },
   "outputs": [],
   "source": [
    "# Login Page\n",
    "# <input required=\"required\" placeholder=\"Email address\" class=\"dc-input-group__input dc-input--text js-sign-in-email\" type=\"email\" value=\"\" name=\"user[email]\" id=\"user_email\">\n",
    "user_email = driver.find_element_by_id(\"user_email\")\n",
    "\n",
    "# <input required=\"required\" placeholder=\"Password\" class=\"dc-input-group__input dc-input--text\" type=\"password\" name=\"user[password]\" id=\"user_password\">\n",
    "user_password = driver.find_element_by_id(\"user_password\")"
   ]
  },
  {
   "cell_type": "code",
   "execution_count": 6,
   "metadata": {
    "collapsed": false
   },
   "outputs": [],
   "source": [
    "user_email.click()\n",
    "user_email.clear()\n",
    "user_email.send_keys(\"YOUR_USERNAME@usc.edu.au\")"
   ]
  },
  {
   "cell_type": "code",
   "execution_count": 7,
   "metadata": {
    "collapsed": true
   },
   "outputs": [],
   "source": [
    "user_password.click()\n",
    "user_password.clear()\n",
    "user_password.send_keys(\"YOUR_DATACAMP_PASSWORD\")"
   ]
  },
  {
   "cell_type": "code",
   "execution_count": 8,
   "metadata": {
    "collapsed": true
   },
   "outputs": [],
   "source": [
    "user_password.submit()"
   ]
  },
  {
   "cell_type": "markdown",
   "metadata": {
    "collapsed": true
   },
   "source": [
    "## TODO: handle the 'Complete your account details' page here"
   ]
  },
  {
   "cell_type": "markdown",
   "metadata": {},
   "source": [
    "## Alternative approaches to sending login data:"
   ]
  },
  {
   "cell_type": "code",
   "execution_count": 56,
   "metadata": {
    "collapsed": true
   },
   "outputs": [],
   "source": [
    "# Try to send input data via JavaScript?\n",
    "#browser.execute_script(\"arguments[0].value = 'utting@usc.edu.au';\", ele)"
   ]
  },
  {
   "cell_type": "code",
   "execution_count": 57,
   "metadata": {
    "collapsed": true
   },
   "outputs": [],
   "source": [
    "# Try to send input data via lower level actions?\n",
    "#actions = webdriver.ActionChains(browser)\n",
    "#actions.move_to_element(ele).send_keys(\"utting@usc.edu.au\").perform()"
   ]
  },
  {
   "cell_type": "markdown",
   "metadata": {},
   "source": [
    "# Get Progress Dashboard"
   ]
  },
  {
   "cell_type": "code",
   "execution_count": 10,
   "metadata": {
    "collapsed": false
   },
   "outputs": [],
   "source": [
    "user_info = driver.find_element_by_class_name(\"header-user\")\n",
    "user_info.click()"
   ]
  },
  {
   "cell_type": "code",
   "execution_count": 11,
   "metadata": {
    "collapsed": true
   },
   "outputs": [],
   "source": [
    "user_progress = driver.find_element_by_link_text(\"My Learning Progress\")\n",
    "user_progress.click()"
   ]
  },
  {
   "cell_type": "markdown",
   "metadata": {},
   "source": [
    "# Or go straight to course page by name?"
   ]
  },
  {
   "cell_type": "code",
   "execution_count": 12,
   "metadata": {
    "collapsed": true
   },
   "outputs": [],
   "source": [
    "# The \"Replay Course\" link\n",
    "driver.get(\"https://campus.datacamp.com/courses/tidy-data-in-python-mini-course\")"
   ]
  },
  {
   "cell_type": "code",
   "execution_count": 13,
   "metadata": {
    "collapsed": false
   },
   "outputs": [],
   "source": [
    "dc_nav_course = driver.find_element_by_class_name(\"dc-nav-course__container\")"
   ]
  },
  {
   "cell_type": "code",
   "execution_count": 14,
   "metadata": {
    "collapsed": true
   },
   "outputs": [],
   "source": [
    "dc_nav_course.click()"
   ]
  },
  {
   "cell_type": "code",
   "execution_count": 15,
   "metadata": {
    "collapsed": false
   },
   "outputs": [],
   "source": [
    "exercises = driver.find_element_by_class_name(\"modal--exercises\")\n",
    "ex_text = exercises.text"
   ]
  },
  {
   "cell_type": "code",
   "execution_count": 16,
   "metadata": {
    "collapsed": false
   },
   "outputs": [
    {
     "data": {
      "text/plain": [
       "['Tidy Data and Messy Data',\n",
       " '50 XP',\n",
       " 'Using Melt to Tidy Data',\n",
       " '100 XP',\n",
       " 'Renaming Columns',\n",
       " '100 XP',\n",
       " 'More messiness',\n",
       " '50 XP',\n",
       " 'Deal with it!',\n",
       " '100 XP',\n",
       " 'Further Cleaning',\n",
       " '100 XP']"
      ]
     },
     "execution_count": 16,
     "metadata": {},
     "output_type": "execute_result"
    }
   ],
   "source": [
    "ex_text.split(\"\\n\")"
   ]
  },
  {
   "cell_type": "code",
   "execution_count": 17,
   "metadata": {
    "collapsed": false
   },
   "outputs": [
    {
     "data": {
      "text/plain": [
       "{'Deal with it!': 100,\n",
       " 'Further Cleaning': 100,\n",
       " 'More messiness': 50,\n",
       " 'Renaming Columns': 100,\n",
       " 'Tidy Data and Messy Data': 50,\n",
       " 'Using Melt to Tidy Data': 100}"
      ]
     },
     "execution_count": 17,
     "metadata": {},
     "output_type": "execute_result"
    }
   ],
   "source": [
    "points = {}\n",
    "topic = \"\"\n",
    "for s in ex_text.split(\"\\n\"):\n",
    "    if s.endswith(\" XP\") and topic:\n",
    "        points[topic] = int(s[0:-3])\n",
    "    else:\n",
    "        topic = s\n",
    "points"
   ]
  },
  {
   "cell_type": "code",
   "execution_count": 18,
   "metadata": {
    "collapsed": false
   },
   "outputs": [],
   "source": [
    "# Shortcut?  give error: cannot focus element\n",
    "#root.send_keys(Keys.CONTROL + \"o\")"
   ]
  },
  {
   "cell_type": "code",
   "execution_count": 20,
   "metadata": {
    "collapsed": true
   },
   "outputs": [],
   "source": [
    "driver.back()"
   ]
  },
  {
   "cell_type": "markdown",
   "metadata": {},
   "source": [
    "# Now log out"
   ]
  },
  {
   "cell_type": "code",
   "execution_count": 21,
   "metadata": {
    "collapsed": false
   },
   "outputs": [],
   "source": [
    "user_info = driver.find_element_by_class_name(\"header-user\")\n",
    "user_info.click()"
   ]
  },
  {
   "cell_type": "code",
   "execution_count": 22,
   "metadata": {
    "collapsed": true
   },
   "outputs": [],
   "source": [
    "user_progress = driver.find_element_by_link_text(\"Log Out\")\n",
    "user_progress.click()"
   ]
  },
  {
   "cell_type": "code",
   "execution_count": 23,
   "metadata": {
    "collapsed": true
   },
   "outputs": [],
   "source": [
    "driver.close()"
   ]
  },
  {
   "cell_type": "markdown",
   "metadata": {},
   "source": [
    "## Alternative suggested way of running headless?\n",
    "    from selenium import webdriver\n",
    "    from selenium.webdriver.chrome.options import Options\n",
    "\n",
    "    CHROME_PATH = '/usr/bin/google-chrome'\n",
    "    CHROMEDRIVER_PATH = '/usr/bin/chromedriver'\n",
    "    WINDOW_SIZE = \"1920,1080\"\n",
    "\n",
    "    chrome_options = Options()  \n",
    "    chrome_options.add_argument(\"--headless\")  \n",
    "    chrome_options.add_argument(\"--window-size=%s\" % WINDOW_SIZE)\n",
    "    chrome_options.binary_location = CHROME_PATH\n",
    "\n",
    "    driver = webdriver.Chrome(executable_path=CHROMEDRIVER_PATH,\n",
    "                              chrome_options=chrome_options\n",
    "                             )  \n",
    "    driver.get(\"https://www.google.com\")\n",
    "    driver.get_screenshot_as_file(\"capture.png\")\n",
    "    driver.close()"
   ]
  },
  {
   "cell_type": "code",
   "execution_count": null,
   "metadata": {
    "collapsed": true
   },
   "outputs": [],
   "source": []
  },
  {
   "cell_type": "code",
   "execution_count": null,
   "metadata": {
    "collapsed": true
   },
   "outputs": [],
   "source": []
  }
 ],
 "metadata": {
  "anaconda-cloud": {},
  "kernelspec": {
   "display_name": "Python [default]",
   "language": "python",
   "name": "python3"
  },
  "language_info": {
   "codemirror_mode": {
    "name": "ipython",
    "version": 3
   },
   "file_extension": ".py",
   "mimetype": "text/x-python",
   "name": "python",
   "nbconvert_exporter": "python",
   "pygments_lexer": "ipython3",
   "version": "3.5.2"
  }
 },
 "nbformat": 4,
 "nbformat_minor": 1
}
